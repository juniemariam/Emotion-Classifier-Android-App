{
  "nbformat": 4,
  "nbformat_minor": 0,
  "metadata": {
    "colab": {
      "provenance": []
    },
    "kernelspec": {
      "name": "python3",
      "display_name": "Python 3"
    },
    "language_info": {
      "name": "python"
    }
  },
  "cells": [
    {
      "cell_type": "code",
      "execution_count": 1,
      "metadata": {
        "colab": {
          "base_uri": "https://localhost:8080/",
          "height": 73
        },
        "id": "tgRFJzpyTJaG",
        "outputId": "0851efd0-3b8a-4eec-a533-a3d1ce8d369e"
      },
      "outputs": [
        {
          "output_type": "display_data",
          "data": {
            "text/plain": [
              "<IPython.core.display.HTML object>"
            ],
            "text/html": [
              "\n",
              "     <input type=\"file\" id=\"files-7c6d3d22-5d9d-4d41-91c2-4d4e405dbf9b\" name=\"files[]\" multiple disabled\n",
              "        style=\"border:none\" />\n",
              "     <output id=\"result-7c6d3d22-5d9d-4d41-91c2-4d4e405dbf9b\">\n",
              "      Upload widget is only available when the cell has been executed in the\n",
              "      current browser session. Please rerun this cell to enable.\n",
              "      </output>\n",
              "      <script>// Copyright 2017 Google LLC\n",
              "//\n",
              "// Licensed under the Apache License, Version 2.0 (the \"License\");\n",
              "// you may not use this file except in compliance with the License.\n",
              "// You may obtain a copy of the License at\n",
              "//\n",
              "//      http://www.apache.org/licenses/LICENSE-2.0\n",
              "//\n",
              "// Unless required by applicable law or agreed to in writing, software\n",
              "// distributed under the License is distributed on an \"AS IS\" BASIS,\n",
              "// WITHOUT WARRANTIES OR CONDITIONS OF ANY KIND, either express or implied.\n",
              "// See the License for the specific language governing permissions and\n",
              "// limitations under the License.\n",
              "\n",
              "/**\n",
              " * @fileoverview Helpers for google.colab Python module.\n",
              " */\n",
              "(function(scope) {\n",
              "function span(text, styleAttributes = {}) {\n",
              "  const element = document.createElement('span');\n",
              "  element.textContent = text;\n",
              "  for (const key of Object.keys(styleAttributes)) {\n",
              "    element.style[key] = styleAttributes[key];\n",
              "  }\n",
              "  return element;\n",
              "}\n",
              "\n",
              "// Max number of bytes which will be uploaded at a time.\n",
              "const MAX_PAYLOAD_SIZE = 100 * 1024;\n",
              "\n",
              "function _uploadFiles(inputId, outputId) {\n",
              "  const steps = uploadFilesStep(inputId, outputId);\n",
              "  const outputElement = document.getElementById(outputId);\n",
              "  // Cache steps on the outputElement to make it available for the next call\n",
              "  // to uploadFilesContinue from Python.\n",
              "  outputElement.steps = steps;\n",
              "\n",
              "  return _uploadFilesContinue(outputId);\n",
              "}\n",
              "\n",
              "// This is roughly an async generator (not supported in the browser yet),\n",
              "// where there are multiple asynchronous steps and the Python side is going\n",
              "// to poll for completion of each step.\n",
              "// This uses a Promise to block the python side on completion of each step,\n",
              "// then passes the result of the previous step as the input to the next step.\n",
              "function _uploadFilesContinue(outputId) {\n",
              "  const outputElement = document.getElementById(outputId);\n",
              "  const steps = outputElement.steps;\n",
              "\n",
              "  const next = steps.next(outputElement.lastPromiseValue);\n",
              "  return Promise.resolve(next.value.promise).then((value) => {\n",
              "    // Cache the last promise value to make it available to the next\n",
              "    // step of the generator.\n",
              "    outputElement.lastPromiseValue = value;\n",
              "    return next.value.response;\n",
              "  });\n",
              "}\n",
              "\n",
              "/**\n",
              " * Generator function which is called between each async step of the upload\n",
              " * process.\n",
              " * @param {string} inputId Element ID of the input file picker element.\n",
              " * @param {string} outputId Element ID of the output display.\n",
              " * @return {!Iterable<!Object>} Iterable of next steps.\n",
              " */\n",
              "function* uploadFilesStep(inputId, outputId) {\n",
              "  const inputElement = document.getElementById(inputId);\n",
              "  inputElement.disabled = false;\n",
              "\n",
              "  const outputElement = document.getElementById(outputId);\n",
              "  outputElement.innerHTML = '';\n",
              "\n",
              "  const pickedPromise = new Promise((resolve) => {\n",
              "    inputElement.addEventListener('change', (e) => {\n",
              "      resolve(e.target.files);\n",
              "    });\n",
              "  });\n",
              "\n",
              "  const cancel = document.createElement('button');\n",
              "  inputElement.parentElement.appendChild(cancel);\n",
              "  cancel.textContent = 'Cancel upload';\n",
              "  const cancelPromise = new Promise((resolve) => {\n",
              "    cancel.onclick = () => {\n",
              "      resolve(null);\n",
              "    };\n",
              "  });\n",
              "\n",
              "  // Wait for the user to pick the files.\n",
              "  const files = yield {\n",
              "    promise: Promise.race([pickedPromise, cancelPromise]),\n",
              "    response: {\n",
              "      action: 'starting',\n",
              "    }\n",
              "  };\n",
              "\n",
              "  cancel.remove();\n",
              "\n",
              "  // Disable the input element since further picks are not allowed.\n",
              "  inputElement.disabled = true;\n",
              "\n",
              "  if (!files) {\n",
              "    return {\n",
              "      response: {\n",
              "        action: 'complete',\n",
              "      }\n",
              "    };\n",
              "  }\n",
              "\n",
              "  for (const file of files) {\n",
              "    const li = document.createElement('li');\n",
              "    li.append(span(file.name, {fontWeight: 'bold'}));\n",
              "    li.append(span(\n",
              "        `(${file.type || 'n/a'}) - ${file.size} bytes, ` +\n",
              "        `last modified: ${\n",
              "            file.lastModifiedDate ? file.lastModifiedDate.toLocaleDateString() :\n",
              "                                    'n/a'} - `));\n",
              "    const percent = span('0% done');\n",
              "    li.appendChild(percent);\n",
              "\n",
              "    outputElement.appendChild(li);\n",
              "\n",
              "    const fileDataPromise = new Promise((resolve) => {\n",
              "      const reader = new FileReader();\n",
              "      reader.onload = (e) => {\n",
              "        resolve(e.target.result);\n",
              "      };\n",
              "      reader.readAsArrayBuffer(file);\n",
              "    });\n",
              "    // Wait for the data to be ready.\n",
              "    let fileData = yield {\n",
              "      promise: fileDataPromise,\n",
              "      response: {\n",
              "        action: 'continue',\n",
              "      }\n",
              "    };\n",
              "\n",
              "    // Use a chunked sending to avoid message size limits. See b/62115660.\n",
              "    let position = 0;\n",
              "    do {\n",
              "      const length = Math.min(fileData.byteLength - position, MAX_PAYLOAD_SIZE);\n",
              "      const chunk = new Uint8Array(fileData, position, length);\n",
              "      position += length;\n",
              "\n",
              "      const base64 = btoa(String.fromCharCode.apply(null, chunk));\n",
              "      yield {\n",
              "        response: {\n",
              "          action: 'append',\n",
              "          file: file.name,\n",
              "          data: base64,\n",
              "        },\n",
              "      };\n",
              "\n",
              "      let percentDone = fileData.byteLength === 0 ?\n",
              "          100 :\n",
              "          Math.round((position / fileData.byteLength) * 100);\n",
              "      percent.textContent = `${percentDone}% done`;\n",
              "\n",
              "    } while (position < fileData.byteLength);\n",
              "  }\n",
              "\n",
              "  // All done.\n",
              "  yield {\n",
              "    response: {\n",
              "      action: 'complete',\n",
              "    }\n",
              "  };\n",
              "}\n",
              "\n",
              "scope.google = scope.google || {};\n",
              "scope.google.colab = scope.google.colab || {};\n",
              "scope.google.colab._files = {\n",
              "  _uploadFiles,\n",
              "  _uploadFilesContinue,\n",
              "};\n",
              "})(self);\n",
              "</script> "
            ]
          },
          "metadata": {}
        },
        {
          "output_type": "stream",
          "name": "stdout",
          "text": [
            "Saving RAVDESS.zip to RAVDESS.zip\n"
          ]
        }
      ],
      "source": [
        "from google.colab import files\n",
        "uploaded = files.upload()"
      ]
    },
    {
      "cell_type": "code",
      "source": [
        "import zipfile\n",
        "import os\n",
        "\n",
        "zip_path = 'RAVDESS.zip'  # change to your file name\n",
        "with zipfile.ZipFile(zip_path, 'r') as zip_ref:\n",
        "    zip_ref.extractall(\"ravdess\")\n"
      ],
      "metadata": {
        "id": "VvebK5PgTMv6"
      },
      "execution_count": 4,
      "outputs": []
    },
    {
      "cell_type": "code",
      "source": [
        "def add_white_noise(signal, noise_factor=0.005):\n",
        "    noise = np.random.randn(len(signal))\n",
        "    return signal + noise_factor * noise\n",
        "\n",
        "def time_stretch(signal, rate=0.9):\n",
        "    return librosa.effects.time_stretch(signal, rate)\n",
        "\n",
        "def pitch_shift(signal, sr, n_steps=2):\n",
        "    return librosa.effects.pitch_shift(signal, sr=sr, n_steps=n_steps)\n"
      ],
      "metadata": {
        "id": "4xxWnDx8cIqf"
      },
      "execution_count": 5,
      "outputs": []
    },
    {
      "cell_type": "code",
      "source": [
        "import os\n",
        "import librosa\n",
        "import numpy as np\n",
        "import glob\n",
        "\n",
        "# Emotion mapping based on RAVDESS file naming\n",
        "emotion_map = {\n",
        "    '01': 'neutral',\n",
        "    '02': 'calm',\n",
        "    '03': 'happy',\n",
        "    '04': 'sad',\n",
        "    '05': 'angry',\n",
        "    '06': 'fearful',\n",
        "    '07': 'disgust',\n",
        "    '08': 'surprised'\n",
        "}\n",
        "\n",
        "X = []\n",
        "y = []\n",
        "\n",
        "for filepath in glob.glob(\"ravdess/**/*.wav\", recursive=True):\n",
        "    try:\n",
        "        filename = os.path.basename(filepath)\n",
        "        emotion_code = filename.split(\"-\")[2]\n",
        "        emotion = emotion_map.get(emotion_code)\n",
        "\n",
        "        target_emotions = ['neutral', 'happy', 'sad', 'angry']\n",
        "        if emotion not in target_emotions:\n",
        "            continue\n",
        "\n",
        "        # if emotion is None:\n",
        "        #     print(\"Skipped unknown emotion:\", filepath)\n",
        "        #     continue\n",
        "\n",
        "        signal, sr = librosa.load(filepath, sr=16000)\n",
        "\n",
        "        # Apply augmentations\n",
        "        signals = [signal]\n",
        "        signals.append(add_white_noise(signal))\n",
        "        # signals.append(librosa.effects.time_stretch(signal, rate=0.9))\n",
        "        # signals.append(librosa.effects.pitch_shift(signal, sr=sr, n_steps=2))\n",
        "\n",
        "        for augmented in signals:\n",
        "            # 1. Compute log-Mel spectrogram\n",
        "            mel = librosa.feature.melspectrogram(y=augmented, sr=sr, n_mels=40)\n",
        "            log_mel = librosa.power_to_db(mel, ref=np.max)\n",
        "\n",
        "            # 2. Normalize\n",
        "            log_mel = (log_mel - np.mean(log_mel)) / np.std(log_mel)\n",
        "\n",
        "            # 3. Pad or trim to shape (100, 40)\n",
        "            if log_mel.shape[1] >= 100:\n",
        "                log_mel = log_mel[:, :100]\n",
        "            else:\n",
        "                pad_width = 100 - log_mel.shape[1]\n",
        "                log_mel = np.pad(log_mel, ((0, 0), (0, pad_width)), mode='constant')\n",
        "\n",
        "            # 4. Transpose to (100, 40)\n",
        "            log_mel = log_mel.T\n",
        "\n",
        "            # 5. Append\n",
        "            X.append(log_mel)\n",
        "            y.append(emotion)\n",
        "\n",
        "    except Exception as e:\n",
        "        print(f\"Error processing {filepath}: {e}\")\n",
        "        continue\n",
        "\n"
      ],
      "metadata": {
        "id": "lpFVU8EHTzFm"
      },
      "execution_count": 6,
      "outputs": []
    },
    {
      "cell_type": "code",
      "source": [
        "sample = np.expand_dims(log_mel, axis=0)  # Shape: (1, 100, 40)\n",
        "sample.astype('float32').tofile(\"sample_input.bin\")\n"
      ],
      "metadata": {
        "id": "TcNWOvYc1-3y"
      },
      "execution_count": null,
      "outputs": []
    },
    {
      "cell_type": "code",
      "source": [
        "import glob\n",
        "files = glob.glob(\"ravdess/**/*.wav\", recursive=True)\n",
        "print(f\"Found {len(files)} audio files\")\n",
        "print(files[:5])\n"
      ],
      "metadata": {
        "id": "WJd7RlPCcpSV",
        "colab": {
          "base_uri": "https://localhost:8080/"
        },
        "outputId": "4dabb233-adfc-4fff-eadc-7d4684c973ba"
      },
      "execution_count": 7,
      "outputs": [
        {
          "output_type": "stream",
          "name": "stdout",
          "text": [
            "Found 2880 audio files\n",
            "['ravdess/Actor_15/03-01-02-02-02-02-15.wav', 'ravdess/Actor_15/03-01-03-01-01-01-15.wav', 'ravdess/Actor_15/03-01-03-01-01-02-15.wav', 'ravdess/Actor_15/03-01-05-02-01-02-15.wav', 'ravdess/Actor_15/03-01-06-02-01-01-15.wav']\n"
          ]
        }
      ]
    },
    {
      "cell_type": "code",
      "source": [
        "X = np.array(X)\n",
        "y = np.array(y)\n",
        "\n",
        "print(\"Data shape:\", X.shape, y.shape)"
      ],
      "metadata": {
        "id": "7GgHoHq_b8QR",
        "colab": {
          "base_uri": "https://localhost:8080/"
        },
        "outputId": "209e72ea-92ec-49b9-e77a-44ee547e22bf"
      },
      "execution_count": 8,
      "outputs": [
        {
          "output_type": "stream",
          "name": "stdout",
          "text": [
            "Data shape: (2688, 100, 40) (2688,)\n"
          ]
        }
      ]
    },
    {
      "cell_type": "markdown",
      "source": [
        "\n",
        "\n",
        "```\n",
        "Encode Labels\n",
        "```\n",
        "\n"
      ],
      "metadata": {
        "id": "72kiSqR0Ueds"
      }
    },
    {
      "cell_type": "code",
      "source": [
        "\n",
        "from sklearn.preprocessing import LabelEncoder\n",
        "le = LabelEncoder()\n",
        "y_encoded = le.fit_transform(y)\n",
        "\n",
        "# Split data\n",
        "from sklearn.model_selection import train_test_split\n",
        "X_train, X_val, y_train, y_val = train_test_split(\n",
        "    X, y_encoded, test_size=0.2, stratify=y_encoded, random_state=42)\n"
      ],
      "metadata": {
        "id": "FVVkRM61T9KG"
      },
      "execution_count": 9,
      "outputs": []
    },
    {
      "cell_type": "markdown",
      "source": [
        "Train Model"
      ],
      "metadata": {
        "id": "HdKfsuLEaN_1"
      }
    },
    {
      "cell_type": "code",
      "source": [
        "import tensorflow as tf\n",
        "from tensorflow.keras import layers, models\n",
        "\n",
        "model = models.Sequential([\n",
        "    layers.Input(shape=(100, 40)),\n",
        "    layers.Conv1D(64, 3, activation='relu'),\n",
        "    layers.MaxPooling1D(2),\n",
        "    layers.Conv1D(128, 3, activation='relu'),\n",
        "    layers.GlobalAveragePooling1D(),\n",
        "    layers.Dense(128, activation='relu'),\n",
        "    layers.Dropout(0.4),\n",
        "    layers.Dense(len(le.classes_), activation='softmax')\n",
        "])\n",
        "\n",
        "model.compile(optimizer='adam', loss='sparse_categorical_crossentropy', metrics=['accuracy'])\n",
        "\n",
        "\n",
        "# Use EarlyStopping to avoid overfitting\n",
        "from tensorflow.keras.callbacks import EarlyStopping\n",
        "\n",
        "early_stop = EarlyStopping(monitor='val_loss', patience=5, restore_best_weights=True)\n",
        "\n",
        "from sklearn.utils.class_weight import compute_class_weight\n",
        "\n",
        "class_weights = compute_class_weight(class_weight='balanced', classes=np.unique(y_encoded), y=y_encoded)\n",
        "class_weights = dict(enumerate(class_weights))\n",
        "\n",
        "# Now pass this to training:\n",
        "history = model.fit(\n",
        "    X_train, y_train,\n",
        "    validation_data=(X_val, y_val),\n",
        "    epochs=50,\n",
        "    batch_size=32,\n",
        "    callbacks=[early_stop],\n",
        "    class_weight=class_weights\n",
        ")\n"
      ],
      "metadata": {
        "id": "1MMuTJAFT-8c",
        "colab": {
          "base_uri": "https://localhost:8080/"
        },
        "outputId": "3b85ab83-bde2-4e11-866b-0a5a057a10c0"
      },
      "execution_count": 10,
      "outputs": [
        {
          "output_type": "stream",
          "name": "stdout",
          "text": [
            "Epoch 1/50\n",
            "\u001b[1m68/68\u001b[0m \u001b[32m━━━━━━━━━━━━━━━━━━━━\u001b[0m\u001b[37m\u001b[0m \u001b[1m3s\u001b[0m 19ms/step - accuracy: 0.3398 - loss: 1.3518 - val_accuracy: 0.3457 - val_loss: 1.2762\n",
            "Epoch 2/50\n",
            "\u001b[1m68/68\u001b[0m \u001b[32m━━━━━━━━━━━━━━━━━━━━\u001b[0m\u001b[37m\u001b[0m \u001b[1m2s\u001b[0m 16ms/step - accuracy: 0.4024 - loss: 1.2156 - val_accuracy: 0.5576 - val_loss: 1.0593\n",
            "Epoch 3/50\n",
            "\u001b[1m68/68\u001b[0m \u001b[32m━━━━━━━━━━━━━━━━━━━━\u001b[0m\u001b[37m\u001b[0m \u001b[1m1s\u001b[0m 16ms/step - accuracy: 0.4986 - loss: 1.0809 - val_accuracy: 0.5613 - val_loss: 0.9655\n",
            "Epoch 4/50\n",
            "\u001b[1m68/68\u001b[0m \u001b[32m━━━━━━━━━━━━━━━━━━━━\u001b[0m\u001b[37m\u001b[0m \u001b[1m1s\u001b[0m 15ms/step - accuracy: 0.5678 - loss: 0.9635 - val_accuracy: 0.6078 - val_loss: 0.9635\n",
            "Epoch 5/50\n",
            "\u001b[1m68/68\u001b[0m \u001b[32m━━━━━━━━━━━━━━━━━━━━\u001b[0m\u001b[37m\u001b[0m \u001b[1m1s\u001b[0m 15ms/step - accuracy: 0.5698 - loss: 0.9590 - val_accuracy: 0.6413 - val_loss: 0.8657\n",
            "Epoch 6/50\n",
            "\u001b[1m68/68\u001b[0m \u001b[32m━━━━━━━━━━━━━━━━━━━━\u001b[0m\u001b[37m\u001b[0m \u001b[1m2s\u001b[0m 21ms/step - accuracy: 0.6173 - loss: 0.8796 - val_accuracy: 0.6487 - val_loss: 0.8084\n",
            "Epoch 7/50\n",
            "\u001b[1m68/68\u001b[0m \u001b[32m━━━━━━━━━━━━━━━━━━━━\u001b[0m\u001b[37m\u001b[0m \u001b[1m2s\u001b[0m 16ms/step - accuracy: 0.6210 - loss: 0.8499 - val_accuracy: 0.5985 - val_loss: 0.8963\n",
            "Epoch 8/50\n",
            "\u001b[1m68/68\u001b[0m \u001b[32m━━━━━━━━━━━━━━━━━━━━\u001b[0m\u001b[37m\u001b[0m \u001b[1m1s\u001b[0m 15ms/step - accuracy: 0.6833 - loss: 0.7653 - val_accuracy: 0.6747 - val_loss: 0.7724\n",
            "Epoch 9/50\n",
            "\u001b[1m68/68\u001b[0m \u001b[32m━━━━━━━━━━━━━━━━━━━━\u001b[0m\u001b[37m\u001b[0m \u001b[1m1s\u001b[0m 16ms/step - accuracy: 0.6848 - loss: 0.7336 - val_accuracy: 0.6766 - val_loss: 0.7274\n",
            "Epoch 10/50\n",
            "\u001b[1m68/68\u001b[0m \u001b[32m━━━━━━━━━━━━━━━━━━━━\u001b[0m\u001b[37m\u001b[0m \u001b[1m1s\u001b[0m 15ms/step - accuracy: 0.7310 - loss: 0.6399 - val_accuracy: 0.5465 - val_loss: 0.9328\n",
            "Epoch 11/50\n",
            "\u001b[1m68/68\u001b[0m \u001b[32m━━━━━━━━━━━━━━━━━━━━\u001b[0m\u001b[37m\u001b[0m \u001b[1m1s\u001b[0m 15ms/step - accuracy: 0.6806 - loss: 0.7416 - val_accuracy: 0.7082 - val_loss: 0.7007\n",
            "Epoch 12/50\n",
            "\u001b[1m68/68\u001b[0m \u001b[32m━━━━━━━━━━━━━━━━━━━━\u001b[0m\u001b[37m\u001b[0m \u001b[1m1s\u001b[0m 15ms/step - accuracy: 0.7300 - loss: 0.6502 - val_accuracy: 0.7379 - val_loss: 0.6092\n",
            "Epoch 13/50\n",
            "\u001b[1m68/68\u001b[0m \u001b[32m━━━━━━━━━━━━━━━━━━━━\u001b[0m\u001b[37m\u001b[0m \u001b[1m1s\u001b[0m 15ms/step - accuracy: 0.7797 - loss: 0.5816 - val_accuracy: 0.6710 - val_loss: 0.7943\n",
            "Epoch 14/50\n",
            "\u001b[1m68/68\u001b[0m \u001b[32m━━━━━━━━━━━━━━━━━━━━\u001b[0m\u001b[37m\u001b[0m \u001b[1m1s\u001b[0m 16ms/step - accuracy: 0.7552 - loss: 0.5695 - val_accuracy: 0.7175 - val_loss: 0.6657\n",
            "Epoch 15/50\n",
            "\u001b[1m68/68\u001b[0m \u001b[32m━━━━━━━━━━━━━━━━━━━━\u001b[0m\u001b[37m\u001b[0m \u001b[1m1s\u001b[0m 20ms/step - accuracy: 0.7785 - loss: 0.5566 - val_accuracy: 0.7230 - val_loss: 0.6793\n",
            "Epoch 16/50\n",
            "\u001b[1m68/68\u001b[0m \u001b[32m━━━━━━━━━━━━━━━━━━━━\u001b[0m\u001b[37m\u001b[0m \u001b[1m2s\u001b[0m 25ms/step - accuracy: 0.7791 - loss: 0.5384 - val_accuracy: 0.8160 - val_loss: 0.5073\n",
            "Epoch 17/50\n",
            "\u001b[1m68/68\u001b[0m \u001b[32m━━━━━━━━━━━━━━━━━━━━\u001b[0m\u001b[37m\u001b[0m \u001b[1m2s\u001b[0m 16ms/step - accuracy: 0.8134 - loss: 0.4678 - val_accuracy: 0.7658 - val_loss: 0.5837\n",
            "Epoch 18/50\n",
            "\u001b[1m68/68\u001b[0m \u001b[32m━━━━━━━━━━━━━━━━━━━━\u001b[0m\u001b[37m\u001b[0m \u001b[1m1s\u001b[0m 15ms/step - accuracy: 0.8079 - loss: 0.4842 - val_accuracy: 0.7918 - val_loss: 0.5090\n",
            "Epoch 19/50\n",
            "\u001b[1m68/68\u001b[0m \u001b[32m━━━━━━━━━━━━━━━━━━━━\u001b[0m\u001b[37m\u001b[0m \u001b[1m1s\u001b[0m 15ms/step - accuracy: 0.8186 - loss: 0.4470 - val_accuracy: 0.7788 - val_loss: 0.5096\n",
            "Epoch 20/50\n",
            "\u001b[1m68/68\u001b[0m \u001b[32m━━━━━━━━━━━━━━━━━━━━\u001b[0m\u001b[37m\u001b[0m \u001b[1m1s\u001b[0m 16ms/step - accuracy: 0.8340 - loss: 0.4219 - val_accuracy: 0.8346 - val_loss: 0.4391\n",
            "Epoch 21/50\n",
            "\u001b[1m68/68\u001b[0m \u001b[32m━━━━━━━━━━━━━━━━━━━━\u001b[0m\u001b[37m\u001b[0m \u001b[1m1s\u001b[0m 15ms/step - accuracy: 0.8464 - loss: 0.3598 - val_accuracy: 0.8290 - val_loss: 0.4527\n",
            "Epoch 22/50\n",
            "\u001b[1m68/68\u001b[0m \u001b[32m━━━━━━━━━━━━━━━━━━━━\u001b[0m\u001b[37m\u001b[0m \u001b[1m1s\u001b[0m 15ms/step - accuracy: 0.8364 - loss: 0.3851 - val_accuracy: 0.8141 - val_loss: 0.5321\n",
            "Epoch 23/50\n",
            "\u001b[1m68/68\u001b[0m \u001b[32m━━━━━━━━━━━━━━━━━━━━\u001b[0m\u001b[37m\u001b[0m \u001b[1m1s\u001b[0m 15ms/step - accuracy: 0.8581 - loss: 0.3757 - val_accuracy: 0.8625 - val_loss: 0.3513\n",
            "Epoch 24/50\n",
            "\u001b[1m68/68\u001b[0m \u001b[32m━━━━━━━━━━━━━━━━━━━━\u001b[0m\u001b[37m\u001b[0m \u001b[1m1s\u001b[0m 16ms/step - accuracy: 0.8772 - loss: 0.3246 - val_accuracy: 0.8383 - val_loss: 0.3848\n",
            "Epoch 25/50\n",
            "\u001b[1m68/68\u001b[0m \u001b[32m━━━━━━━━━━━━━━━━━━━━\u001b[0m\u001b[37m\u001b[0m \u001b[1m2s\u001b[0m 27ms/step - accuracy: 0.8794 - loss: 0.3160 - val_accuracy: 0.8513 - val_loss: 0.3721\n",
            "Epoch 26/50\n",
            "\u001b[1m68/68\u001b[0m \u001b[32m━━━━━━━━━━━━━━━━━━━━\u001b[0m\u001b[37m\u001b[0m \u001b[1m2s\u001b[0m 15ms/step - accuracy: 0.8888 - loss: 0.2968 - val_accuracy: 0.8941 - val_loss: 0.3032\n",
            "Epoch 27/50\n",
            "\u001b[1m68/68\u001b[0m \u001b[32m━━━━━━━━━━━━━━━━━━━━\u001b[0m\u001b[37m\u001b[0m \u001b[1m1s\u001b[0m 15ms/step - accuracy: 0.9031 - loss: 0.2768 - val_accuracy: 0.8866 - val_loss: 0.3130\n",
            "Epoch 28/50\n",
            "\u001b[1m68/68\u001b[0m \u001b[32m━━━━━━━━━━━━━━━━━━━━\u001b[0m\u001b[37m\u001b[0m \u001b[1m1s\u001b[0m 15ms/step - accuracy: 0.9269 - loss: 0.2255 - val_accuracy: 0.8829 - val_loss: 0.2891\n",
            "Epoch 29/50\n",
            "\u001b[1m68/68\u001b[0m \u001b[32m━━━━━━━━━━━━━━━━━━━━\u001b[0m\u001b[37m\u001b[0m \u001b[1m1s\u001b[0m 15ms/step - accuracy: 0.9238 - loss: 0.2217 - val_accuracy: 0.8606 - val_loss: 0.3845\n",
            "Epoch 30/50\n",
            "\u001b[1m68/68\u001b[0m \u001b[32m━━━━━━━━━━━━━━━━━━━━\u001b[0m\u001b[37m\u001b[0m \u001b[1m1s\u001b[0m 15ms/step - accuracy: 0.9141 - loss: 0.2361 - val_accuracy: 0.8959 - val_loss: 0.2772\n",
            "Epoch 31/50\n",
            "\u001b[1m68/68\u001b[0m \u001b[32m━━━━━━━━━━━━━━━━━━━━\u001b[0m\u001b[37m\u001b[0m \u001b[1m1s\u001b[0m 15ms/step - accuracy: 0.9154 - loss: 0.2135 - val_accuracy: 0.9052 - val_loss: 0.2631\n",
            "Epoch 32/50\n",
            "\u001b[1m68/68\u001b[0m \u001b[32m━━━━━━━━━━━━━━━━━━━━\u001b[0m\u001b[37m\u001b[0m \u001b[1m1s\u001b[0m 17ms/step - accuracy: 0.9152 - loss: 0.2306 - val_accuracy: 0.8606 - val_loss: 0.3175\n",
            "Epoch 33/50\n",
            "\u001b[1m68/68\u001b[0m \u001b[32m━━━━━━━━━━━━━━━━━━━━\u001b[0m\u001b[37m\u001b[0m \u001b[1m1s\u001b[0m 16ms/step - accuracy: 0.9336 - loss: 0.1736 - val_accuracy: 0.9015 - val_loss: 0.2307\n",
            "Epoch 34/50\n",
            "\u001b[1m68/68\u001b[0m \u001b[32m━━━━━━━━━━━━━━━━━━━━\u001b[0m\u001b[37m\u001b[0m \u001b[1m2s\u001b[0m 25ms/step - accuracy: 0.9508 - loss: 0.1770 - val_accuracy: 0.9164 - val_loss: 0.2155\n",
            "Epoch 35/50\n",
            "\u001b[1m68/68\u001b[0m \u001b[32m━━━━━━━━━━━━━━━━━━━━\u001b[0m\u001b[37m\u001b[0m \u001b[1m2s\u001b[0m 16ms/step - accuracy: 0.9593 - loss: 0.1430 - val_accuracy: 0.9275 - val_loss: 0.2074\n",
            "Epoch 36/50\n",
            "\u001b[1m68/68\u001b[0m \u001b[32m━━━━━━━━━━━━━━━━━━━━\u001b[0m\u001b[37m\u001b[0m \u001b[1m1s\u001b[0m 15ms/step - accuracy: 0.9326 - loss: 0.1907 - val_accuracy: 0.9275 - val_loss: 0.2023\n",
            "Epoch 37/50\n",
            "\u001b[1m68/68\u001b[0m \u001b[32m━━━━━━━━━━━━━━━━━━━━\u001b[0m\u001b[37m\u001b[0m \u001b[1m1s\u001b[0m 15ms/step - accuracy: 0.9618 - loss: 0.1231 - val_accuracy: 0.9238 - val_loss: 0.1986\n",
            "Epoch 38/50\n",
            "\u001b[1m68/68\u001b[0m \u001b[32m━━━━━━━━━━━━━━━━━━━━\u001b[0m\u001b[37m\u001b[0m \u001b[1m1s\u001b[0m 16ms/step - accuracy: 0.9591 - loss: 0.1213 - val_accuracy: 0.8996 - val_loss: 0.2428\n",
            "Epoch 39/50\n",
            "\u001b[1m68/68\u001b[0m \u001b[32m━━━━━━━━━━━━━━━━━━━━\u001b[0m\u001b[37m\u001b[0m \u001b[1m1s\u001b[0m 15ms/step - accuracy: 0.9626 - loss: 0.1250 - val_accuracy: 0.9442 - val_loss: 0.1664\n",
            "Epoch 40/50\n",
            "\u001b[1m68/68\u001b[0m \u001b[32m━━━━━━━━━━━━━━━━━━━━\u001b[0m\u001b[37m\u001b[0m \u001b[1m1s\u001b[0m 15ms/step - accuracy: 0.9602 - loss: 0.1353 - val_accuracy: 0.9182 - val_loss: 0.2129\n",
            "Epoch 41/50\n",
            "\u001b[1m68/68\u001b[0m \u001b[32m━━━━━━━━━━━━━━━━━━━━\u001b[0m\u001b[37m\u001b[0m \u001b[1m1s\u001b[0m 15ms/step - accuracy: 0.9549 - loss: 0.1222 - val_accuracy: 0.9312 - val_loss: 0.1662\n",
            "Epoch 42/50\n",
            "\u001b[1m68/68\u001b[0m \u001b[32m━━━━━━━━━━━━━━━━━━━━\u001b[0m\u001b[37m\u001b[0m \u001b[1m1s\u001b[0m 16ms/step - accuracy: 0.9566 - loss: 0.1237 - val_accuracy: 0.9257 - val_loss: 0.1790\n",
            "Epoch 43/50\n",
            "\u001b[1m68/68\u001b[0m \u001b[32m━━━━━━━━━━━━━━━━━━━━\u001b[0m\u001b[37m\u001b[0m \u001b[1m2s\u001b[0m 22ms/step - accuracy: 0.9753 - loss: 0.0794 - val_accuracy: 0.9405 - val_loss: 0.1587\n",
            "Epoch 44/50\n",
            "\u001b[1m68/68\u001b[0m \u001b[32m━━━━━━━━━━━━━━━━━━━━\u001b[0m\u001b[37m\u001b[0m \u001b[1m2s\u001b[0m 16ms/step - accuracy: 0.9709 - loss: 0.0904 - val_accuracy: 0.9071 - val_loss: 0.2392\n",
            "Epoch 45/50\n",
            "\u001b[1m68/68\u001b[0m \u001b[32m━━━━━━━━━━━━━━━━━━━━\u001b[0m\u001b[37m\u001b[0m \u001b[1m1s\u001b[0m 16ms/step - accuracy: 0.9665 - loss: 0.0927 - val_accuracy: 0.9442 - val_loss: 0.1514\n",
            "Epoch 46/50\n",
            "\u001b[1m68/68\u001b[0m \u001b[32m━━━━━━━━━━━━━━━━━━━━\u001b[0m\u001b[37m\u001b[0m \u001b[1m1s\u001b[0m 15ms/step - accuracy: 0.9765 - loss: 0.0734 - val_accuracy: 0.9517 - val_loss: 0.1363\n",
            "Epoch 47/50\n",
            "\u001b[1m68/68\u001b[0m \u001b[32m━━━━━━━━━━━━━━━━━━━━\u001b[0m\u001b[37m\u001b[0m \u001b[1m1s\u001b[0m 15ms/step - accuracy: 0.9768 - loss: 0.0705 - val_accuracy: 0.9647 - val_loss: 0.1081\n",
            "Epoch 48/50\n",
            "\u001b[1m68/68\u001b[0m \u001b[32m━━━━━━━━━━━━━━━━━━━━\u001b[0m\u001b[37m\u001b[0m \u001b[1m1s\u001b[0m 15ms/step - accuracy: 0.9752 - loss: 0.0828 - val_accuracy: 0.9480 - val_loss: 0.1363\n",
            "Epoch 49/50\n",
            "\u001b[1m68/68\u001b[0m \u001b[32m━━━━━━━━━━━━━━━━━━━━\u001b[0m\u001b[37m\u001b[0m \u001b[1m1s\u001b[0m 16ms/step - accuracy: 0.9749 - loss: 0.0927 - val_accuracy: 0.8792 - val_loss: 0.3002\n",
            "Epoch 50/50\n",
            "\u001b[1m68/68\u001b[0m \u001b[32m━━━━━━━━━━━━━━━━━━━━\u001b[0m\u001b[37m\u001b[0m \u001b[1m1s\u001b[0m 16ms/step - accuracy: 0.9741 - loss: 0.0917 - val_accuracy: 0.9368 - val_loss: 0.1620\n"
          ]
        }
      ]
    },
    {
      "cell_type": "markdown",
      "source": [],
      "metadata": {
        "id": "PPCuYr_JhtoD"
      }
    },
    {
      "cell_type": "code",
      "source": [
        "loss, acc = model.evaluate(X_val, y_val)\n",
        "print(f\"Validation Accuracy: {acc:.4f}\")\n"
      ],
      "metadata": {
        "id": "61Ugm_vMhuSn",
        "colab": {
          "base_uri": "https://localhost:8080/"
        },
        "outputId": "1a052972-8ae3-4114-a014-497d96d9dfdd"
      },
      "execution_count": 11,
      "outputs": [
        {
          "output_type": "stream",
          "name": "stdout",
          "text": [
            "\u001b[1m17/17\u001b[0m \u001b[32m━━━━━━━━━━━━━━━━━━━━\u001b[0m\u001b[37m\u001b[0m \u001b[1m0s\u001b[0m 8ms/step - accuracy: 0.9666 - loss: 0.1023\n",
            "Validation Accuracy: 0.9647\n"
          ]
        }
      ]
    },
    {
      "cell_type": "markdown",
      "source": [
        "Save and Convert to TFLite"
      ],
      "metadata": {
        "id": "CWTT3O8gnotQ"
      }
    },
    {
      "cell_type": "code",
      "source": [
        "import matplotlib.pyplot as plt\n",
        "\n",
        "plt.plot(history.history['accuracy'], label='Train Accuracy')\n",
        "plt.plot(history.history['val_accuracy'], label='Val Accuracy')\n",
        "plt.title(\"Final Accuracy Over Epochs\")\n",
        "plt.xlabel(\"Epoch\")\n",
        "plt.ylabel(\"Accuracy\")\n",
        "plt.legend()\n",
        "plt.grid()\n",
        "plt.show()\n"
      ],
      "metadata": {
        "id": "yeHMGgfony2c",
        "colab": {
          "base_uri": "https://localhost:8080/",
          "height": 472
        },
        "outputId": "8f412023-9ce1-4f0b-b294-b58574f1ffa6"
      },
      "execution_count": 13,
      "outputs": [
        {
          "output_type": "display_data",
          "data": {
            "text/plain": [
              "<Figure size 640x480 with 1 Axes>"
            ],
            "image/png": "[encoded data removed]"
          },
          "metadata": {}
        }
      ]
    },
    {
      "cell_type": "code",
      "source": [
        "print(\"Final Train Accuracy:\", history.history['accuracy'][-1])\n",
        "print(\"Final Val Accuracy:\", history.history['val_accuracy'][-1])\n"
      ],
      "metadata": {
        "id": "PU2jFRHFn4bm",
        "colab": {
          "base_uri": "https://localhost:8080/"
        },
        "outputId": "62b0b0f4-c699-400b-e563-1abd78504191"
      },
      "execution_count": 14,
      "outputs": [
        {
          "output_type": "stream",
          "name": "stdout",
          "text": [
            "Final Train Accuracy: 0.9767441749572754\n",
            "Final Val Accuracy: 0.9368029832839966\n"
          ]
        }
      ]
    },
    {
      "cell_type": "code",
      "source": [
        "converter = tf.lite.TFLiteConverter.from_keras_model(model)\n",
        "converter.target_spec.supported_ops = [\n",
        "    tf.lite.OpsSet.TFLITE_BUILTINS,\n",
        "    tf.lite.OpsSet.SELECT_TF_OPS\n",
        "]\n",
        "converter._experimental_lower_tensor_list_ops = False\n",
        "tflite_model = converter.convert()\n",
        "\n",
        "with open(\"emotion_model.tflite\", \"wb\") as f:\n",
        "    f.write(tflite_model)\n"
      ],
      "metadata": {
        "id": "tEweiS3b37af",
        "colab": {
          "base_uri": "https://localhost:8080/"
        },
        "outputId": "c764eec2-8cc0-4790-8286-b2c91f2b3657"
      },
      "execution_count": 16,
      "outputs": [
        {
          "output_type": "stream",
          "name": "stdout",
          "text": [
            "Saved artifact at '/tmp/tmpjhlva1s8'. The following endpoints are available:\n",
            "\n",
            "* Endpoint 'serve'\n",
            "  args_0 (POSITIONAL_ONLY): TensorSpec(shape=(None, 100, 40), dtype=tf.float32, name='keras_tensor')\n",
            "Output Type:\n",
            "  TensorSpec(shape=(None, 4), dtype=tf.float32, name=None)\n",
            "Captures:\n",
            "  139285065445264: TensorSpec(shape=(), dtype=tf.resource, name=None)\n",
            "  139285065449104: TensorSpec(shape=(), dtype=tf.resource, name=None)\n",
            "  139284876903824: TensorSpec(shape=(), dtype=tf.resource, name=None)\n",
            "  139284876905744: TensorSpec(shape=(), dtype=tf.resource, name=None)\n",
            "  139284876902672: TensorSpec(shape=(), dtype=tf.resource, name=None)\n",
            "  139284876906320: TensorSpec(shape=(), dtype=tf.resource, name=None)\n",
            "  139285065449296: TensorSpec(shape=(), dtype=tf.resource, name=None)\n",
            "  139284876906896: TensorSpec(shape=(), dtype=tf.resource, name=None)\n"
          ]
        }
      ]
    },
    {
      "cell_type": "code",
      "source": [
        "import numpy as np\n",
        "import tensorflow as tf\n",
        "import librosa\n",
        "\n",
        "# 1. Load .wav file (must match what was used on Android)\n",
        "wav_path = '/content/ravdess/Actor_24/03-01-01-01-01-01-24.wav'\n",
        "signal, sr = librosa.load(wav_path, sr=16000)\n",
        "\n",
        "# 2. Extract log-Mel spectrogram\n",
        "n_mels = 40\n",
        "S = librosa.feature.melspectrogram(y=signal, sr=sr, n_mels=n_mels)\n",
        "log_S = librosa.power_to_db(S, ref=np.max)\n",
        "\n",
        "# 3. Normalize\n",
        "log_S = (log_S - np.mean(log_S)) / np.std(log_S)\n",
        "\n",
        "# 4. Pad or truncate to (100, 40)\n",
        "if log_S.shape[1] >= 100:\n",
        "    log_S = log_S[:, :100]\n",
        "else:\n",
        "    pad_width = 100 - log_S.shape[1]\n",
        "    log_S = np.pad(log_S, ((0, 0), (0, pad_width)), mode='constant')\n",
        "\n",
        "# 5. Transpose and reshape for TFLite: (1, 100, 40)\n",
        "log_S = log_S.T[np.newaxis, :, :].astype(np.float32)\n",
        "\n",
        "# 6. Load TFLite model\n",
        "interpreter = tf.lite.Interpreter(model_path='emotion_model.tflite')\n",
        "interpreter.allocate_tensors()\n",
        "\n",
        "input_details = interpreter.get_input_details()\n",
        "output_details = interpreter.get_output_details()\n",
        "\n",
        "interpreter.set_tensor(input_details[0]['index'], log_S)\n",
        "interpreter.invoke()\n",
        "\n",
        "output = interpreter.get_tensor(output_details[0]['index'])[0]\n",
        "\n",
        "# 7. Print results\n",
        "emotion_labels = ['angry', 'happy', 'neutral', 'sad']\n",
        "for i, prob in enumerate(output):\n",
        "    print(f\"{emotion_labels[i]}: {prob*100:.2f}%\")\n",
        "\n",
        "print(\"\\nPredicted Emotion:\", emotion_labels[np.argmax(output)])\n"
      ],
      "metadata": {
        "id": "YWkRvJCI4TP1",
        "colab": {
          "base_uri": "https://localhost:8080/"
        },
        "outputId": "b1bc3093-e5d6-4262-fb05-96d65e0b828f"
      },
      "execution_count": 18,
      "outputs": [
        {
          "output_type": "stream",
          "name": "stdout",
          "text": [
            "angry: 0.07%\n",
            "happy: 0.03%\n",
            "neutral: 93.62%\n",
            "sad: 6.27%\n",
            "\n",
            "Predicted Emotion: neutral\n"
          ]
        }
      ]
    }
  ]
}